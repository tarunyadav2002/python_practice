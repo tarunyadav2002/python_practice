{
 "cells": [
  {
   "cell_type": "code",
   "execution_count": 5,
   "metadata": {},
   "outputs": [
    {
     "name": "stdout",
     "output_type": "stream",
     "text": [
      "Enter Value of Zn 10\n",
      "Additive inverse pairs are : \n",
      "[(0, 0), (1, 9), (2, 8), (3, 7), (4, 6), (5, 5)]\n",
      "Multiplicative inverse pairs are : \n",
      "[(1, 1), (3, 7), (9, 9)]\n"
     ]
    }
   ],
   "source": [
    "def additiveInverse (n):\n",
    "    inverseArr = list()\n",
    "    for i in range(0, n):\n",
    "        for j in range(0,n):\n",
    "            if((i+j)%n==0 and (i<=j)):\n",
    "                inverseArr.append((i,j))\n",
    "    print(\"Additive inverse pairs are : \")\n",
    "    print(inverseArr)\n",
    "def multiplicativeInverse (n):\n",
    "    inverseArr = list()\n",
    "    for i in range(0, n):\n",
    "        for j in range(0,n):\n",
    "            if((i*j)%n==1 and (i<=j)):\n",
    "                inverseArr.append((i,j))\n",
    "    print(\"Multiplicative inverse pairs are : \")\n",
    "    print(inverseArr)\n",
    "n = int(input(\"Enter Value of Zn \"))\n",
    "additiveInverse(n)\n",
    "multiplicativeInverse(n)"
   ]
  },
  {
   "cell_type": "code",
   "execution_count": null,
   "metadata": {},
   "outputs": [],
   "source": []
  }
 ],
 "metadata": {
  "kernelspec": {
   "display_name": "Python 3",
   "language": "python",
   "name": "python3"
  },
  "language_info": {
   "codemirror_mode": {
    "name": "ipython",
    "version": 3
   },
   "file_extension": ".py",
   "mimetype": "text/x-python",
   "name": "python",
   "nbconvert_exporter": "python",
   "pygments_lexer": "ipython3",
   "version": "3.7.4"
  }
 },
 "nbformat": 4,
 "nbformat_minor": 2
}
