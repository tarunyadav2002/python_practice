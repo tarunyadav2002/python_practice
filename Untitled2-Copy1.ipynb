{
 "cells": [
  {
   "cell_type": "code",
   "execution_count": 3,
   "metadata": {},
   "outputs": [
    {
     "name": "stdout",
     "output_type": "stream",
     "text": [
      "please enter principal:5000\n",
      "please enter roi:4\n",
      "please enter duration:4\n"
     ]
    }
   ],
   "source": [
    "pr=int(input(\"please enter principal:\"))\n",
    "roi=float(input(\"please enter roi:\"))\n",
    "n=int(input(\"please enter duration:\"))\n"
   ]
  },
  {
   "cell_type": "code",
   "execution_count": 6,
   "metadata": {},
   "outputs": [
    {
     "name": "stdout",
     "output_type": "stream",
     "text": [
      "800.0\n"
     ]
    }
   ],
   "source": [
    "si=(pr * roi * n)/100\n",
    "print(si)"
   ]
  },
  {
   "cell_type": "markdown",
   "metadata": {},
   "source": [
    "##introducing loops and functions in python"
   ]
  },
  {
   "cell_type": "markdown",
   "metadata": {},
   "source": [
    "##calculatin compound interest"
   ]
  },
  {
   "cell_type": "code",
   "execution_count": 7,
   "metadata": {},
   "outputs": [],
   "source": [
    "def calsi(npr,nroi,nduration):\n",
    "    nsi=(npr*nroi*nduration)/100\n",
    "    nfinalamount=npr+nsi\n",
    "    return nsi,nfinalamount"
   ]
  },
  {
   "cell_type": "code",
   "execution_count": 34,
   "metadata": {},
   "outputs": [
    {
     "name": "stdout",
     "output_type": "stream",
     "text": [
      "10.0\n"
     ]
    }
   ],
   "source": [
    "f_si,f_finalamount=calsi(100,10,1)\n",
    "print(f_si)"
   ]
  },
  {
   "cell_type": "code",
   "execution_count": 11,
   "metadata": {},
   "outputs": [
    {
     "name": "stdout",
     "output_type": "stream",
     "text": [
      "please enter principal:100\n",
      "please enter roi:10\n",
      "please enter duration:3\n"
     ]
    }
   ],
   "source": [
    "pr=int(input(\"please enter principal:\"))\n",
    "roi=float(input(\"please enter roi:\"))\n",
    "n=int(input(\"please enter duration:\"))"
   ]
  },
  {
   "cell_type": "code",
   "execution_count": 35,
   "metadata": {
    "scrolled": true
   },
   "outputs": [
    {
     "name": "stdout",
     "output_type": "stream",
     "text": [
      "219.7\n"
     ]
    }
   ],
   "source": [
    "current_principal=pr\n",
    "for i in range(0,n):\n",
    "   _,current_principal=calsi(current_principal,roi,3)\n",
    "print(current_principal)"
   ]
  },
  {
   "cell_type": "code",
   "execution_count": 39,
   "metadata": {},
   "outputs": [
    {
     "name": "stdout",
     "output_type": "stream",
     "text": [
      "enter value of p:5\n",
      "enter value of r:100\n",
      "enter value of n:2\n",
      "enter the value of t:1\n"
     ]
    }
   ],
   "source": [
    "p=int(input(\"enter value of p:\"))\n",
    "r=int(input(\"enter value of r:\"))\n",
    "n=int(input(\"enter value of n:\"))\n",
    "t=int(input(\"enter the value of t:\"))\n",
    "            "
   ]
  },
  {
   "cell_type": "code",
   "execution_count": 49,
   "metadata": {},
   "outputs": [],
   "source": [
    "def calA(p,r):\n",
    "    a=p*(1+(r/100))\n",
    "    return a"
   ]
  },
  {
   "cell_type": "code",
   "execution_count": 51,
   "metadata": {},
   "outputs": [
    {
     "name": "stdout",
     "output_type": "stream",
     "text": [
      "10.0\n"
     ]
    }
   ],
   "source": [
    "a=calA(5,100)\n",
    "print(a)"
   ]
  },
  {
   "cell_type": "code",
   "execution_count": 57,
   "metadata": {},
   "outputs": [
    {
     "name": "stdout",
     "output_type": "stream",
     "text": [
      "1e+16\n",
      "1e+32\n"
     ]
    }
   ],
   "source": [
    "for i in range(0,):\n",
    "    a=a*a\n",
    "    print(a)"
   ]
  },
  {
   "cell_type": "code",
   "execution_count": null,
   "metadata": {},
   "outputs": [],
   "source": []
  }
 ],
 "metadata": {
  "kernelspec": {
   "display_name": "Python 3",
   "language": "python",
   "name": "python3"
  },
  "language_info": {
   "codemirror_mode": {
    "name": "ipython",
    "version": 3
   },
   "file_extension": ".py",
   "mimetype": "text/x-python",
   "name": "python",
   "nbconvert_exporter": "python",
   "pygments_lexer": "ipython3",
   "version": "3.7.4"
  }
 },
 "nbformat": 4,
 "nbformat_minor": 2
}
